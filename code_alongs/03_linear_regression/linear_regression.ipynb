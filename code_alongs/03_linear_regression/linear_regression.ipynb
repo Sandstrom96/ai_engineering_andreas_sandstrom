{
 "cells": [
  {
   "cell_type": "markdown",
   "id": "2d8f74d0",
   "metadata": {},
   "source": [
    "# Linear regression code alongs\n",
    "\n",
    "- we have laels -> supervised learning\n",
    "- try to predict real number -> regression\n",
    "- predict discrete values -> classification"
   ]
  },
  {
   "cell_type": "code",
   "execution_count": 2,
   "id": "e5e46358",
   "metadata": {},
   "outputs": [
    {
     "data": {
      "text/html": [
       "<div>\n",
       "<style scoped>\n",
       "    .dataframe tbody tr th:only-of-type {\n",
       "        vertical-align: middle;\n",
       "    }\n",
       "\n",
       "    .dataframe tbody tr th {\n",
       "        vertical-align: top;\n",
       "    }\n",
       "\n",
       "    .dataframe thead th {\n",
       "        text-align: right;\n",
       "    }\n",
       "</style>\n",
       "<table border=\"1\" class=\"dataframe\">\n",
       "  <thead>\n",
       "    <tr style=\"text-align: right;\">\n",
       "      <th></th>\n",
       "      <th>TV</th>\n",
       "      <th>radio</th>\n",
       "      <th>newspaper</th>\n",
       "      <th>sales</th>\n",
       "    </tr>\n",
       "  </thead>\n",
       "  <tbody>\n",
       "    <tr>\n",
       "      <th>1</th>\n",
       "      <td>230.1</td>\n",
       "      <td>37.8</td>\n",
       "      <td>69.2</td>\n",
       "      <td>22.1</td>\n",
       "    </tr>\n",
       "    <tr>\n",
       "      <th>2</th>\n",
       "      <td>44.5</td>\n",
       "      <td>39.3</td>\n",
       "      <td>45.1</td>\n",
       "      <td>10.4</td>\n",
       "    </tr>\n",
       "    <tr>\n",
       "      <th>3</th>\n",
       "      <td>17.2</td>\n",
       "      <td>45.9</td>\n",
       "      <td>69.3</td>\n",
       "      <td>9.3</td>\n",
       "    </tr>\n",
       "    <tr>\n",
       "      <th>4</th>\n",
       "      <td>151.5</td>\n",
       "      <td>41.3</td>\n",
       "      <td>58.5</td>\n",
       "      <td>18.5</td>\n",
       "    </tr>\n",
       "    <tr>\n",
       "      <th>5</th>\n",
       "      <td>180.8</td>\n",
       "      <td>10.8</td>\n",
       "      <td>58.4</td>\n",
       "      <td>12.9</td>\n",
       "    </tr>\n",
       "  </tbody>\n",
       "</table>\n",
       "</div>"
      ],
      "text/plain": [
       "      TV  radio  newspaper  sales\n",
       "1  230.1   37.8       69.2   22.1\n",
       "2   44.5   39.3       45.1   10.4\n",
       "3   17.2   45.9       69.3    9.3\n",
       "4  151.5   41.3       58.5   18.5\n",
       "5  180.8   10.8       58.4   12.9"
      ]
     },
     "execution_count": 2,
     "metadata": {},
     "output_type": "execute_result"
    }
   ],
   "source": [
    "import pandas as pd\n",
    "\n",
    "df = pd.read_csv(\"../../data/Advertising.csv\", index_col=0)\n",
    "df.head()"
   ]
  },
  {
   "cell_type": "code",
   "execution_count": 4,
   "id": "28446f85",
   "metadata": {},
   "outputs": [
    {
     "data": {
      "text/plain": [
       "(200, 4)"
      ]
     },
     "execution_count": 4,
     "metadata": {},
     "output_type": "execute_result"
    }
   ],
   "source": [
    "df.shape"
   ]
  },
  {
   "cell_type": "code",
   "execution_count": 8,
   "id": "37ec3abe",
   "metadata": {},
   "outputs": [
    {
     "name": "stdout",
     "output_type": "stream",
     "text": [
      "200 samples\n",
      "3 features\n",
      "Sales column is our label/target\n"
     ]
    }
   ],
   "source": [
    "print(f\"{df.shape[0]} samples\")\n",
    "print(f\"{df.shape[1] - 1} features\")\n",
    "print(\"Sales column is our label/target\")"
   ]
  },
  {
   "cell_type": "markdown",
   "id": "ffd9dece",
   "metadata": {},
   "source": [
    "## Divide data into X and y"
   ]
  },
  {
   "cell_type": "code",
   "execution_count": null,
   "id": "f04788a0",
   "metadata": {},
   "outputs": [
    {
     "data": {
      "text/html": [
       "<div>\n",
       "<style scoped>\n",
       "    .dataframe tbody tr th:only-of-type {\n",
       "        vertical-align: middle;\n",
       "    }\n",
       "\n",
       "    .dataframe tbody tr th {\n",
       "        vertical-align: top;\n",
       "    }\n",
       "\n",
       "    .dataframe thead th {\n",
       "        text-align: right;\n",
       "    }\n",
       "</style>\n",
       "<table border=\"1\" class=\"dataframe\">\n",
       "  <thead>\n",
       "    <tr style=\"text-align: right;\">\n",
       "      <th></th>\n",
       "      <th>TV</th>\n",
       "      <th>radio</th>\n",
       "      <th>newspaper</th>\n",
       "    </tr>\n",
       "  </thead>\n",
       "  <tbody>\n",
       "    <tr>\n",
       "      <th>1</th>\n",
       "      <td>230.1</td>\n",
       "      <td>37.8</td>\n",
       "      <td>69.2</td>\n",
       "    </tr>\n",
       "    <tr>\n",
       "      <th>2</th>\n",
       "      <td>44.5</td>\n",
       "      <td>39.3</td>\n",
       "      <td>45.1</td>\n",
       "    </tr>\n",
       "    <tr>\n",
       "      <th>3</th>\n",
       "      <td>17.2</td>\n",
       "      <td>45.9</td>\n",
       "      <td>69.3</td>\n",
       "    </tr>\n",
       "    <tr>\n",
       "      <th>4</th>\n",
       "      <td>151.5</td>\n",
       "      <td>41.3</td>\n",
       "      <td>58.5</td>\n",
       "    </tr>\n",
       "    <tr>\n",
       "      <th>5</th>\n",
       "      <td>180.8</td>\n",
       "      <td>10.8</td>\n",
       "      <td>58.4</td>\n",
       "    </tr>\n",
       "  </tbody>\n",
       "</table>\n",
       "</div>"
      ],
      "text/plain": [
       "      TV  radio  newspaper\n",
       "1  230.1   37.8       69.2\n",
       "2   44.5   39.3       45.1\n",
       "3   17.2   45.9       69.3\n",
       "4  151.5   41.3       58.5\n",
       "5  180.8   10.8       58.4"
      ]
     },
     "execution_count": 10,
     "metadata": {},
     "output_type": "execute_result"
    }
   ],
   "source": [
    "# X - design matrix / feature matrix / features / independent variables\n",
    "# y - target variable / label / dependent variable\n",
    "X, y = df.drop(\"sales\", axis=1), df[\"sales\"]\n",
    "X.head()"
   ]
  },
  {
   "cell_type": "code",
   "execution_count": 11,
   "id": "d5ebfdc4",
   "metadata": {},
   "outputs": [
    {
     "data": {
      "text/plain": [
       "1    22.1\n",
       "2    10.4\n",
       "3     9.3\n",
       "4    18.5\n",
       "5    12.9\n",
       "Name: sales, dtype: float64"
      ]
     },
     "execution_count": 11,
     "metadata": {},
     "output_type": "execute_result"
    }
   ],
   "source": [
    "y.head()"
   ]
  },
  {
   "cell_type": "code",
   "execution_count": 12,
   "id": "afee973e",
   "metadata": {},
   "outputs": [
    {
     "data": {
      "text/plain": [
       "(pandas.core.series.Series, pandas.core.frame.DataFrame)"
      ]
     },
     "execution_count": 12,
     "metadata": {},
     "output_type": "execute_result"
    }
   ],
   "source": [
    "type(y), type(X)"
   ]
  },
  {
   "cell_type": "markdown",
   "id": "20764827",
   "metadata": {},
   "source": [
    "## Scikit-learn steps\n",
    "\n",
    "1. train|test split or train|val|test split\n",
    "2. scale dataset\n",
    "    - many algorithms require scaling, some don't\n",
    "    - there exists different types of scaling (e.g. feature standardization, min-max scaling)\n",
    "    - scale training data and test data to the training datas parameters to avoid data leakage\n",
    "3. Fit algorithm to training data\n",
    "4. Predict on test data\n",
    "5. Evaluation metrics"
   ]
  },
  {
   "cell_type": "code",
   "execution_count": null,
   "id": "2a83b329",
   "metadata": {},
   "outputs": [],
   "source": [
    "from sklearn.model_selection import train_test_split\n",
    "\n",
    "help(train_test_split)"
   ]
  },
  {
   "cell_type": "markdown",
   "id": "79e9ac99",
   "metadata": {},
   "source": [
    "## 1.train|test split"
   ]
  },
  {
   "cell_type": "code",
   "execution_count": 17,
   "id": "f52c5388",
   "metadata": {},
   "outputs": [
    {
     "name": "stdout",
     "output_type": "stream",
     "text": [
      "X_train.shape = (134, 3)\n",
      "y_train.shape = (134,)\n",
      "X_test.shape = (66, 3)\n",
      "y_test.shape = (66,)\n"
     ]
    }
   ],
   "source": [
    "X_train, X_test, y_train, y_test = train_test_split(X, y, test_size=0.33, random_state=42)\n",
    "\n",
    "print(f\"{X_train.shape = }\")\n",
    "print(f\"{y_train.shape = }\")\n",
    "print(f\"{X_test.shape = }\")\n",
    "print(f\"{y_test.shape = }\")"
   ]
  },
  {
   "cell_type": "code",
   "execution_count": 19,
   "id": "55d7d3ca",
   "metadata": {},
   "outputs": [
    {
     "data": {
      "text/html": [
       "<div>\n",
       "<style scoped>\n",
       "    .dataframe tbody tr th:only-of-type {\n",
       "        vertical-align: middle;\n",
       "    }\n",
       "\n",
       "    .dataframe tbody tr th {\n",
       "        vertical-align: top;\n",
       "    }\n",
       "\n",
       "    .dataframe thead th {\n",
       "        text-align: right;\n",
       "    }\n",
       "</style>\n",
       "<table border=\"1\" class=\"dataframe\">\n",
       "  <thead>\n",
       "    <tr style=\"text-align: right;\">\n",
       "      <th></th>\n",
       "      <th>TV</th>\n",
       "      <th>radio</th>\n",
       "      <th>newspaper</th>\n",
       "    </tr>\n",
       "  </thead>\n",
       "  <tbody>\n",
       "    <tr>\n",
       "      <th>43</th>\n",
       "      <td>293.6</td>\n",
       "      <td>27.7</td>\n",
       "      <td>1.8</td>\n",
       "    </tr>\n",
       "    <tr>\n",
       "      <th>190</th>\n",
       "      <td>18.7</td>\n",
       "      <td>12.1</td>\n",
       "      <td>23.4</td>\n",
       "    </tr>\n",
       "    <tr>\n",
       "      <th>91</th>\n",
       "      <td>134.3</td>\n",
       "      <td>4.9</td>\n",
       "      <td>9.3</td>\n",
       "    </tr>\n",
       "    <tr>\n",
       "      <th>137</th>\n",
       "      <td>25.6</td>\n",
       "      <td>39.0</td>\n",
       "      <td>9.3</td>\n",
       "    </tr>\n",
       "    <tr>\n",
       "      <th>52</th>\n",
       "      <td>100.4</td>\n",
       "      <td>9.6</td>\n",
       "      <td>3.6</td>\n",
       "    </tr>\n",
       "  </tbody>\n",
       "</table>\n",
       "</div>"
      ],
      "text/plain": [
       "        TV  radio  newspaper\n",
       "43   293.6   27.7        1.8\n",
       "190   18.7   12.1       23.4\n",
       "91   134.3    4.9        9.3\n",
       "137   25.6   39.0        9.3\n",
       "52   100.4    9.6        3.6"
      ]
     },
     "execution_count": 19,
     "metadata": {},
     "output_type": "execute_result"
    }
   ],
   "source": [
    "X_train.head()"
   ]
  },
  {
   "cell_type": "code",
   "execution_count": 20,
   "id": "5c46c41c",
   "metadata": {},
   "outputs": [
    {
     "data": {
      "text/plain": [
       "43     20.7\n",
       "190     6.7\n",
       "91     11.2\n",
       "137     9.5\n",
       "52     10.7\n",
       "Name: sales, dtype: float64"
      ]
     },
     "execution_count": 20,
     "metadata": {},
     "output_type": "execute_result"
    }
   ],
   "source": [
    "y_train.head()"
   ]
  },
  {
   "cell_type": "markdown",
   "id": "68511334",
   "metadata": {},
   "source": [
    "## 2.feature scaling\n",
    "\n",
    "- min-max scaling\n",
    "- values transform into 0.0 to 1.0"
   ]
  },
  {
   "cell_type": "code",
   "execution_count": 21,
   "id": "cd3a4500",
   "metadata": {},
   "outputs": [
    {
     "data": {
      "text/plain": [
       "sklearn.preprocessing._data.MinMaxScaler"
      ]
     },
     "execution_count": 21,
     "metadata": {},
     "output_type": "execute_result"
    }
   ],
   "source": [
    "from sklearn.preprocessing import MinMaxScaler\n",
    "\n",
    "\n",
    "scaler = MinMaxScaler()\n",
    "type(scaler)"
   ]
  },
  {
   "cell_type": "code",
   "execution_count": 25,
   "id": "6e83b5ac",
   "metadata": {},
   "outputs": [
    {
     "name": "stdout",
     "output_type": "stream",
     "text": [
      "scaled_X_train.min() = np.float64(0.0)\n",
      "scaled_X_train.max() = np.float64(1.0)\n",
      "scaled_X_test.min() = np.float64(0.005964214711729622)\n",
      "scaled_X_test.max() = np.float64(1.1302186878727631)\n"
     ]
    }
   ],
   "source": [
    "scaler.fit(X_train)\n",
    "scaled_X_train = scaler.transform(X_train)\n",
    "scaled_X_test = scaler.transform(X_test)\n",
    "\n",
    "print(f\"{scaled_X_train.min() = }\")\n",
    "print(f\"{scaled_X_train.max() = }\")\n",
    "print(f\"{scaled_X_test.min() = }\")\n",
    "print(f\"{scaled_X_test.max() = }\")"
   ]
  },
  {
   "cell_type": "code",
   "execution_count": 27,
   "id": "696c07d5",
   "metadata": {},
   "outputs": [
    {
     "data": {
      "text/plain": [
       "(134, 3)"
      ]
     },
     "execution_count": 27,
     "metadata": {},
     "output_type": "execute_result"
    }
   ],
   "source": [
    "scaled_X_train.shape"
   ]
  },
  {
   "cell_type": "code",
   "execution_count": 28,
   "id": "a38e8fca",
   "metadata": {},
   "outputs": [
    {
     "data": {
      "text/plain": [
       "array([[0.99053094, 0.55846774, 0.01491054],\n",
       "       [0.06087251, 0.24395161, 0.22962227],\n",
       "       [0.45180927, 0.09879032, 0.08946322],\n",
       "       [0.08420697, 0.78629032, 0.08946322],\n",
       "       [0.33716605, 0.19354839, 0.03280318]])"
      ]
     },
     "execution_count": 28,
     "metadata": {},
     "output_type": "execute_result"
    }
   ],
   "source": [
    "scaled_X_train[:5]"
   ]
  },
  {
   "cell_type": "code",
   "execution_count": 29,
   "id": "d8595fb4",
   "metadata": {},
   "outputs": [
    {
     "data": {
      "text/plain": [
       "numpy.ndarray"
      ]
     },
     "execution_count": 29,
     "metadata": {},
     "output_type": "execute_result"
    }
   ],
   "source": [
    "type(scaled_X_train)"
   ]
  },
  {
   "cell_type": "markdown",
   "id": "9a438bee",
   "metadata": {},
   "source": [
    "## 3.Linear regression\n",
    "\n",
    "$y = w_0 + w_1x_1 + w_2x_2 + w_3x_3$"
   ]
  },
  {
   "cell_type": "code",
   "execution_count": null,
   "id": "8ae337ea",
   "metadata": {},
   "outputs": [
    {
     "name": "stdout",
     "output_type": "stream",
     "text": [
      "Parameters: [13.20747617  9.75285112  0.61108329]\n",
      "Intercept parameter: 2.7911595196243653\n"
     ]
    }
   ],
   "source": [
    "from sklearn.linear_model import LinearRegression\n",
    "\n",
    "model = LinearRegression()\n",
    "model.fit(scaled_X_train, y_train)\n",
    "print(f\"Parameters or weights: {model.coef_}\")\n",
    "print(f\"Intercept parameter: {model.intercept_}\")"
   ]
  },
  {
   "cell_type": "markdown",
   "id": "3407207d",
   "metadata": {},
   "source": [
    "## 4. Prediction"
   ]
  },
  {
   "cell_type": "code",
   "execution_count": 37,
   "id": "0a9ca769",
   "metadata": {},
   "outputs": [
    {
     "data": {
      "text/plain": [
       "TV           163.3\n",
       "radio         31.6\n",
       "newspaper     52.9\n",
       "Name: 96, dtype: float64"
      ]
     },
     "execution_count": 37,
     "metadata": {},
     "output_type": "execute_result"
    }
   ],
   "source": [
    "X_test.iloc[0]"
   ]
  },
  {
   "cell_type": "code",
   "execution_count": 34,
   "id": "8b85d317",
   "metadata": {},
   "outputs": [
    {
     "data": {
      "text/plain": [
       "array([[0.54988164, 0.63709677, 0.52286282]])"
      ]
     },
     "execution_count": 34,
     "metadata": {},
     "output_type": "execute_result"
    }
   ],
   "source": [
    "sample_features = scaled_X_test[0].reshape(1, -1)\n",
    "sample_features"
   ]
  },
  {
   "cell_type": "code",
   "execution_count": 35,
   "id": "601a12dd",
   "metadata": {},
   "outputs": [
    {
     "data": {
      "text/plain": [
       "array([16.58673085])"
      ]
     },
     "execution_count": 35,
     "metadata": {},
     "output_type": "execute_result"
    }
   ],
   "source": [
    "model.predict(sample_features)"
   ]
  },
  {
   "cell_type": "code",
   "execution_count": 36,
   "id": "13fd2ca6",
   "metadata": {},
   "outputs": [
    {
     "data": {
      "text/plain": [
       "np.float64(16.9)"
      ]
     },
     "execution_count": 36,
     "metadata": {},
     "output_type": "execute_result"
    }
   ],
   "source": [
    "y_test.iloc[0]"
   ]
  },
  {
   "cell_type": "markdown",
   "id": "78373683",
   "metadata": {},
   "source": [
    "## Predict on whole test data"
   ]
  },
  {
   "cell_type": "code",
   "execution_count": 39,
   "id": "299dcb3e",
   "metadata": {},
   "outputs": [
    {
     "data": {
      "text/plain": [
       "array([16.58673085, 21.18622524, 21.66752973, 10.81086512, 22.25210881])"
      ]
     },
     "execution_count": 39,
     "metadata": {},
     "output_type": "execute_result"
    }
   ],
   "source": [
    "y_pred = model.predict(scaled_X_test)\n",
    "y_pred[:5]"
   ]
  },
  {
   "cell_type": "code",
   "execution_count": 40,
   "id": "a40305f5",
   "metadata": {},
   "outputs": [
    {
     "data": {
      "text/plain": [
       "96     16.9\n",
       "16     22.4\n",
       "31     21.4\n",
       "159     7.3\n",
       "129    24.7\n",
       "Name: sales, dtype: float64"
      ]
     },
     "execution_count": 40,
     "metadata": {},
     "output_type": "execute_result"
    }
   ],
   "source": [
    "y_test[:5]"
   ]
  },
  {
   "cell_type": "markdown",
   "id": "e2f66ac1",
   "metadata": {},
   "source": [
    "## 5. Evaluate\n",
    "\n",
    "common metrics for regression case\n",
    "- mae - mean absolute error\n",
    "- mse - mean squared error\n",
    "- rmse - root mean squared error"
   ]
  },
  {
   "cell_type": "code",
   "execution_count": 41,
   "id": "268499d9",
   "metadata": {},
   "outputs": [
    {
     "name": "stdout",
     "output_type": "stream",
     "text": [
      "mae = 1.4937750024728977\n",
      "mse = 3.72792833068152\n",
      "rmse = np.float64(1.9307843822347228)\n"
     ]
    }
   ],
   "source": [
    "from sklearn.metrics import mean_absolute_error, mean_squared_error\n",
    "import numpy as np\n",
    "\n",
    "mae = mean_absolute_error(y_test, y_pred)\n",
    "mse = mean_squared_error(y_test, y_pred)\n",
    "rmse = np.sqrt(mse)\n",
    "\n",
    "print(f\"{mae = }\")\n",
    "print(f\"{mse = }\")\n",
    "print(f\"{rmse = }\")"
   ]
  }
 ],
 "metadata": {
  "kernelspec": {
   "display_name": "ai_engineering_andreas_sandstrom (3.12.6)",
   "language": "python",
   "name": "python3"
  },
  "language_info": {
   "codemirror_mode": {
    "name": "ipython",
    "version": 3
   },
   "file_extension": ".py",
   "mimetype": "text/x-python",
   "name": "python",
   "nbconvert_exporter": "python",
   "pygments_lexer": "ipython3",
   "version": "3.12.6"
  }
 },
 "nbformat": 4,
 "nbformat_minor": 5
}
