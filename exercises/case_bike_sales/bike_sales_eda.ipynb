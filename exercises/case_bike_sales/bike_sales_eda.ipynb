{
 "cells": [
  {
   "cell_type": "markdown",
   "id": "eab1a5fa",
   "metadata": {},
   "source": [
    "# Exploratory Data Analysis (EDA) on Bike Sales Dataset\n",
    "\n",
    "Vad kan vara intressant att veta?\n",
    "Störst åldersgrupp\n",
    "Profit per land\n",
    "Profit per år\n",
    "Profit per produkt\n",
    "Vilken produkt som säljs mest\n"
   ]
  },
  {
   "cell_type": "code",
   "execution_count": 1,
   "id": "9faa212c",
   "metadata": {},
   "outputs": [
    {
     "data": {
      "text/html": [
       "<div>\n",
       "<style scoped>\n",
       "    .dataframe tbody tr th:only-of-type {\n",
       "        vertical-align: middle;\n",
       "    }\n",
       "\n",
       "    .dataframe tbody tr th {\n",
       "        vertical-align: top;\n",
       "    }\n",
       "\n",
       "    .dataframe thead th {\n",
       "        text-align: right;\n",
       "    }\n",
       "</style>\n",
       "<table border=\"1\" class=\"dataframe\">\n",
       "  <thead>\n",
       "    <tr style=\"text-align: right;\">\n",
       "      <th></th>\n",
       "      <th>Day</th>\n",
       "      <th>Month</th>\n",
       "      <th>Year</th>\n",
       "      <th>Customer_Age</th>\n",
       "      <th>Age_Group</th>\n",
       "      <th>Customer_Gender</th>\n",
       "      <th>Country</th>\n",
       "      <th>State</th>\n",
       "      <th>Product_Category</th>\n",
       "      <th>Sub_Category</th>\n",
       "      <th>Product</th>\n",
       "      <th>Order_Quantity</th>\n",
       "      <th>Unit_Cost</th>\n",
       "      <th>Unit_Price</th>\n",
       "      <th>Profit</th>\n",
       "      <th>Cost</th>\n",
       "      <th>Revenue</th>\n",
       "    </tr>\n",
       "    <tr>\n",
       "      <th>Date</th>\n",
       "      <th></th>\n",
       "      <th></th>\n",
       "      <th></th>\n",
       "      <th></th>\n",
       "      <th></th>\n",
       "      <th></th>\n",
       "      <th></th>\n",
       "      <th></th>\n",
       "      <th></th>\n",
       "      <th></th>\n",
       "      <th></th>\n",
       "      <th></th>\n",
       "      <th></th>\n",
       "      <th></th>\n",
       "      <th></th>\n",
       "      <th></th>\n",
       "      <th></th>\n",
       "    </tr>\n",
       "  </thead>\n",
       "  <tbody>\n",
       "    <tr>\n",
       "      <th>2013-11-26</th>\n",
       "      <td>26</td>\n",
       "      <td>November</td>\n",
       "      <td>2013</td>\n",
       "      <td>19</td>\n",
       "      <td>Youth (&lt;25)</td>\n",
       "      <td>M</td>\n",
       "      <td>Canada</td>\n",
       "      <td>British Columbia</td>\n",
       "      <td>Accessories</td>\n",
       "      <td>Bike Racks</td>\n",
       "      <td>Hitch Rack - 4-Bike</td>\n",
       "      <td>8</td>\n",
       "      <td>45</td>\n",
       "      <td>120</td>\n",
       "      <td>590</td>\n",
       "      <td>360</td>\n",
       "      <td>950</td>\n",
       "    </tr>\n",
       "    <tr>\n",
       "      <th>2015-11-26</th>\n",
       "      <td>26</td>\n",
       "      <td>November</td>\n",
       "      <td>2015</td>\n",
       "      <td>19</td>\n",
       "      <td>Youth (&lt;25)</td>\n",
       "      <td>M</td>\n",
       "      <td>Canada</td>\n",
       "      <td>British Columbia</td>\n",
       "      <td>Accessories</td>\n",
       "      <td>Bike Racks</td>\n",
       "      <td>Hitch Rack - 4-Bike</td>\n",
       "      <td>8</td>\n",
       "      <td>45</td>\n",
       "      <td>120</td>\n",
       "      <td>590</td>\n",
       "      <td>360</td>\n",
       "      <td>950</td>\n",
       "    </tr>\n",
       "    <tr>\n",
       "      <th>2014-03-23</th>\n",
       "      <td>23</td>\n",
       "      <td>March</td>\n",
       "      <td>2014</td>\n",
       "      <td>49</td>\n",
       "      <td>Adults (35-64)</td>\n",
       "      <td>M</td>\n",
       "      <td>Australia</td>\n",
       "      <td>New South Wales</td>\n",
       "      <td>Accessories</td>\n",
       "      <td>Bike Racks</td>\n",
       "      <td>Hitch Rack - 4-Bike</td>\n",
       "      <td>23</td>\n",
       "      <td>45</td>\n",
       "      <td>120</td>\n",
       "      <td>1366</td>\n",
       "      <td>1035</td>\n",
       "      <td>2401</td>\n",
       "    </tr>\n",
       "    <tr>\n",
       "      <th>2016-03-23</th>\n",
       "      <td>23</td>\n",
       "      <td>March</td>\n",
       "      <td>2016</td>\n",
       "      <td>49</td>\n",
       "      <td>Adults (35-64)</td>\n",
       "      <td>M</td>\n",
       "      <td>Australia</td>\n",
       "      <td>New South Wales</td>\n",
       "      <td>Accessories</td>\n",
       "      <td>Bike Racks</td>\n",
       "      <td>Hitch Rack - 4-Bike</td>\n",
       "      <td>20</td>\n",
       "      <td>45</td>\n",
       "      <td>120</td>\n",
       "      <td>1188</td>\n",
       "      <td>900</td>\n",
       "      <td>2088</td>\n",
       "    </tr>\n",
       "    <tr>\n",
       "      <th>2014-05-15</th>\n",
       "      <td>15</td>\n",
       "      <td>May</td>\n",
       "      <td>2014</td>\n",
       "      <td>47</td>\n",
       "      <td>Adults (35-64)</td>\n",
       "      <td>F</td>\n",
       "      <td>Australia</td>\n",
       "      <td>New South Wales</td>\n",
       "      <td>Accessories</td>\n",
       "      <td>Bike Racks</td>\n",
       "      <td>Hitch Rack - 4-Bike</td>\n",
       "      <td>4</td>\n",
       "      <td>45</td>\n",
       "      <td>120</td>\n",
       "      <td>238</td>\n",
       "      <td>180</td>\n",
       "      <td>418</td>\n",
       "    </tr>\n",
       "  </tbody>\n",
       "</table>\n",
       "</div>"
      ],
      "text/plain": [
       "            Day     Month  Year  Customer_Age       Age_Group Customer_Gender  \\\n",
       "Date                                                                            \n",
       "2013-11-26   26  November  2013            19     Youth (<25)               M   \n",
       "2015-11-26   26  November  2015            19     Youth (<25)               M   \n",
       "2014-03-23   23     March  2014            49  Adults (35-64)               M   \n",
       "2016-03-23   23     March  2016            49  Adults (35-64)               M   \n",
       "2014-05-15   15       May  2014            47  Adults (35-64)               F   \n",
       "\n",
       "              Country             State Product_Category Sub_Category  \\\n",
       "Date                                                                    \n",
       "2013-11-26     Canada  British Columbia      Accessories   Bike Racks   \n",
       "2015-11-26     Canada  British Columbia      Accessories   Bike Racks   \n",
       "2014-03-23  Australia   New South Wales      Accessories   Bike Racks   \n",
       "2016-03-23  Australia   New South Wales      Accessories   Bike Racks   \n",
       "2014-05-15  Australia   New South Wales      Accessories   Bike Racks   \n",
       "\n",
       "                        Product  Order_Quantity  Unit_Cost  Unit_Price  \\\n",
       "Date                                                                     \n",
       "2013-11-26  Hitch Rack - 4-Bike               8         45         120   \n",
       "2015-11-26  Hitch Rack - 4-Bike               8         45         120   \n",
       "2014-03-23  Hitch Rack - 4-Bike              23         45         120   \n",
       "2016-03-23  Hitch Rack - 4-Bike              20         45         120   \n",
       "2014-05-15  Hitch Rack - 4-Bike               4         45         120   \n",
       "\n",
       "            Profit  Cost  Revenue  \n",
       "Date                               \n",
       "2013-11-26     590   360      950  \n",
       "2015-11-26     590   360      950  \n",
       "2014-03-23    1366  1035     2401  \n",
       "2016-03-23    1188   900     2088  \n",
       "2014-05-15     238   180      418  "
      ]
     },
     "execution_count": 1,
     "metadata": {},
     "output_type": "execute_result"
    }
   ],
   "source": [
    "import pandas as pd\n",
    "\n",
    "df = pd.read_csv(\"../../data/Sales.csv\", index_col=0, parse_dates=True)\n",
    "df.head()"
   ]
  },
  {
   "cell_type": "code",
   "execution_count": 23,
   "id": "106f60c1",
   "metadata": {},
   "outputs": [
    {
     "data": {
      "text/plain": [
       "Age_Group\n",
       "Adults (35-64)          55824\n",
       "Young Adults (25-34)    38654\n",
       "Youth (<25)             17828\n",
       "Seniors (64+)             730\n",
       "Name: count, dtype: int64"
      ]
     },
     "execution_count": 23,
     "metadata": {},
     "output_type": "execute_result"
    }
   ],
   "source": [
    "# largest age group\n",
    "df[\"Age_Group\"].value_counts().sort_values(ascending=False)"
   ]
  },
  {
   "cell_type": "code",
   "execution_count": 24,
   "id": "c128c040",
   "metadata": {},
   "outputs": [
    {
     "data": {
      "text/plain": [
       "Country\n",
       "United Kingdom    324.071439\n",
       "Germany           302.756803\n",
       "Australia         283.089489\n",
       "United States     282.447687\n",
       "Canada            262.187615\n",
       "France            261.891435\n",
       "Name: Profit, dtype: float64"
      ]
     },
     "execution_count": 24,
     "metadata": {},
     "output_type": "execute_result"
    }
   ],
   "source": [
    "# average profit per country\n",
    "df.groupby(\"Country\")[\"Profit\"].mean().sort_values(ascending=False)"
   ]
  },
  {
   "cell_type": "code",
   "execution_count": 36,
   "id": "a09c6dc2",
   "metadata": {},
   "outputs": [
    {
     "data": {
      "text/plain": [
       "Product                  Country      \n",
       "Water Bottle - 30 oz.    United States    61174\n",
       "Patch Kit/8 Patches      United States    56408\n",
       "Mountain Tire Tube       United States    44137\n",
       "Water Bottle - 30 oz.    Australia        32764\n",
       "Patch Kit/8 Patches      Australia        32668\n",
       "Fender Set - Mountain    United States    28031\n",
       "Mountain Tire Tube       Canada           27546\n",
       "Patch Kit/8 Patches      Canada           25926\n",
       "Sport-100 Helmet, Black  United States    23571\n",
       "Water Bottle - 30 oz.    Canada           22940\n",
       "Name: Order_Quantity, dtype: int64"
      ]
     },
     "execution_count": 36,
     "metadata": {},
     "output_type": "execute_result"
    }
   ],
   "source": [
    "# most sold product by country\n",
    "df.groupby([\"Product\", \"Country\"])[\"Order_Quantity\"].sum().sort_values(ascending=False).head(10)"
   ]
  },
  {
   "cell_type": "code",
   "execution_count": 65,
   "id": "00e7104c",
   "metadata": {},
   "outputs": [
    {
     "data": {
      "text/plain": [
       "Sub_Category    Product                \n",
       "Mountain Bikes  Mountain-200 Black, 38     1310464\n",
       "Road Bikes      Road-150 Red, 62           1243755\n",
       "Mountain Bikes  Mountain-200 Silver, 42    1231452\n",
       "Helmets         Sport-100 Helmet, Red      1191402\n",
       "Mountain Bikes  Mountain-200 Silver, 38    1165560\n",
       "Helmets         Sport-100 Helmet, Black    1140355\n",
       "Mountain Bikes  Mountain-200 Black, 46     1080672\n",
       "Road Bikes      Road-150 Red, 52           1053260\n",
       "Helmets         Sport-100 Helmet, Blue     1048446\n",
       "Mountain Bikes  Mountain-200 Black, 42     1036542\n",
       "Name: Profit, dtype: int64"
      ]
     },
     "execution_count": 65,
     "metadata": {},
     "output_type": "execute_result"
    }
   ],
   "source": [
    "df.groupby([\"Sub_Category\", \"Product\"])[\"Profit\"].sum().sort_values(ascending=False).head(10)"
   ]
  },
  {
   "cell_type": "code",
   "execution_count": null,
   "id": "3adbde02",
   "metadata": {},
   "outputs": [
    {
     "data": {
      "text/plain": [
       "Product                Country        Date\n",
       "Water Bottle - 30 oz.  United States  2014    18586\n",
       "                                      2016    18121\n",
       "Patch Kit/8 Patches    United States  2014    15800\n",
       "                                      2016    15368\n",
       "Mountain Tire Tube     United States  2014    13095\n",
       "Patch Kit/8 Patches    United States  2013    12795\n",
       "Mountain Tire Tube     United States  2016    12687\n",
       "Patch Kit/8 Patches    United States  2015    12445\n",
       "Water Bottle - 30 oz.  United States  2013    12401\n",
       "                                      2015    12066\n",
       "Name: Order_Quantity, dtype: int64"
      ]
     },
     "execution_count": 66,
     "metadata": {},
     "output_type": "execute_result"
    }
   ],
   "source": [
    "# most sold product per country and year\n",
    "df.groupby([\"Product\", \"Country\", \"Year\"])[\"Order_Quantity\"].sum().sort_values(ascending=False).head(10)"
   ]
  }
 ],
 "metadata": {
  "kernelspec": {
   "display_name": ".venv",
   "language": "python",
   "name": "python3"
  },
  "language_info": {
   "codemirror_mode": {
    "name": "ipython",
    "version": 3
   },
   "file_extension": ".py",
   "mimetype": "text/x-python",
   "name": "python",
   "nbconvert_exporter": "python",
   "pygments_lexer": "ipython3",
   "version": "3.12.3"
  }
 },
 "nbformat": 4,
 "nbformat_minor": 5
}
