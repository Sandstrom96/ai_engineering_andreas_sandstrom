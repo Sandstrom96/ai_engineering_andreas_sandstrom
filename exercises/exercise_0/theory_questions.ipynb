{
 "cells": [
  {
   "cell_type": "markdown",
   "id": "81f4dab3",
   "metadata": {},
   "source": [
    "# Theory questions"
   ]
  },
  {
   "cell_type": "markdown",
   "id": "def9f7ff",
   "metadata": {},
   "source": [
    "&nbsp; a) Why could it be good to combine duckdb and pandas?\n",
    "\n",
    "Pandas går snabbt när allt får plats i RAM annars kan man använda duckdb för att läsa direkt från filen.\n",
    "Med duckdb kan man köra kraftfulla SQL-frågor och sedan använda resultatet med pandas för att jobba vidare.\n",
    "Går att köra SQL direkt på en panda dataframe med duckdb."
   ]
  },
  {
   "cell_type": "markdown",
   "id": "8b27f63c",
   "metadata": {},
   "source": [
    "&nbsp; b) How do you create a DataFrame in Pandas from a dictionary, a list of dictionaries, and a CSV file, json object?\n",
    "\n",
    "Från dictionary / lista av dictionaries\n",
    "```df = pd.DataFrame(data)``` där data är själva dictionary\n",
    "\n",
    "Från CSV\n",
    "```df = pd.read_csv(\"fil.csv\")```\n",
    "\n",
    "Från JSON\n",
    "```df = pd.read_json(\"fil.json\")```"
   ]
  },
  {
   "cell_type": "markdown",
   "id": "0565ad89",
   "metadata": {},
   "source": [
    "&nbsp; c) What is the difference between .loc[] and .iloc[] for indexing in Pandas?\n",
    "\n",
    ".loc[] = indexering med namn/etikett, tex `df.loc[\"a\"]` hämtar endast raden med index \"a\"\n",
    "\n",
    ".iloc[] = indexering med heltalsposition, tex `df.iloc[0]` hämtar första raden (index \"a\")"
   ]
  },
  {
   "cell_type": "markdown",
   "id": "519e86f3",
   "metadata": {},
   "source": [
    "&nbsp; d) What is the purpose of the .groupby() method in Pandas? How is it used in data aggregation?\n",
    "\n",
    "Syftet med `.groupby()` är att gruppera data baserat på värden i en eller flera kolumner och sedan använda aggregation, transformation eller analys.\n",
    "tex `.sum()` för att summera tex lönen på den grupperade datan"
   ]
  },
  {
   "cell_type": "markdown",
   "id": "1528a416",
   "metadata": {},
   "source": [
    "&nbsp; e) How do you export a pandas dataframe into a csv file?\n",
    "\n",
    "`df.to_csv(\"fil.csv\")`"
   ]
  },
  {
   "cell_type": "markdown",
   "id": "4c109d4a",
   "metadata": {},
   "source": [
    "&nbsp; f) How do you save a pandas dataframe into a duckdb database?\n",
    "\n",
    "Duckdb känner automatiskt igen pandas dataframe\n",
    "```py\n",
    "con = duckdb.connect(\"my_database.duckdb\")\n",
    "con.execute(\"CREATE TABLE people AS SELECT * FROM df\").df()\n",
    "```"
   ]
  }
 ],
 "metadata": {
  "language_info": {
   "name": "python"
  }
 },
 "nbformat": 4,
 "nbformat_minor": 5
}
